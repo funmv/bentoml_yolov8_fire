{
 "cells": [
  {
   "cell_type": "markdown",
   "id": "eebd6212",
   "metadata": {},
   "source": [
    "## BentoML 연동  \n",
    "- 위치: G:\\2023_yolov8\\bentoml_test\\BentoYolo\n",
    "- 가상환경: f:\\venv\\bento_yolo310\\scripts\\activate\n",
    "- 필요파일: bentofile.yaml, best_230603.pt, requirements.txt, service.py, test01.jpg, yolo_tester.ipynb, yolov8_bentoml.ipynb"
   ]
  },
  {
   "cell_type": "code",
   "execution_count": 1,
   "id": "b6658e22",
   "metadata": {},
   "outputs": [],
   "source": [
    "import bentoml\n",
    "from ultralytics import YOLO"
   ]
  },
  {
   "cell_type": "code",
   "execution_count": 2,
   "id": "da48be56",
   "metadata": {},
   "outputs": [],
   "source": [
    "model = YOLO(\"best_230603.pt\").model\n",
    "#model.eval()"
   ]
  },
  {
   "cell_type": "code",
   "execution_count": 3,
   "id": "c5d6d9c3",
   "metadata": {},
   "outputs": [],
   "source": [
    "metadata = {  \n",
    "    'acc': 0.9,\n",
    "    'dataset_version': '20240808',\n",
    "}\n",
    "\n",
    "#signature = {'predict': {'batchable': False}}  # model 코드 내 predict에서 호출\n",
    "signature = {\"__call__\": {\"batchable\": True}}  # model 코드에서 forward로 직접 호출"
   ]
  },
  {
   "cell_type": "code",
   "execution_count": 4,
   "id": "63854732",
   "metadata": {},
   "outputs": [
    {
     "name": "stdout",
     "output_type": "stream",
     "text": [
      "Model(tag=\"yolov8m:qqbh5h3f2wqk7qb4\")\n"
     ]
    }
   ],
   "source": [
    "saved_model = bentoml.pytorch.save_model(\n",
    "    'yolov8m',\n",
    "    model,\n",
    "    signatures=signature,\n",
    "    metadata=metadata, \n",
    ")\n",
    "\n",
    "print(saved_model)"
   ]
  },
  {
   "cell_type": "code",
   "execution_count": null,
   "id": "83f010d1-f55a-41ca-b414-0de18177df11",
   "metadata": {},
   "outputs": [],
   "source": []
  },
  {
   "cell_type": "code",
   "execution_count": null,
   "id": "2378cb24-1223-40f7-8645-9dd92de21f96",
   "metadata": {},
   "outputs": [],
   "source": []
  },
  {
   "cell_type": "code",
   "execution_count": null,
   "id": "852ac847",
   "metadata": {},
   "outputs": [],
   "source": []
  },
  {
   "cell_type": "code",
   "execution_count": 7,
   "id": "1f6697b9",
   "metadata": {},
   "outputs": [],
   "source": [
    "#!bentoml list"
   ]
  },
  {
   "cell_type": "code",
   "execution_count": 8,
   "id": "1013b2a7",
   "metadata": {},
   "outputs": [],
   "source": [
    "#!bentoml models list\n",
    "# !bentoml models delete poopup:fttpe7fueke3zqb4"
   ]
  },
  {
   "cell_type": "code",
   "execution_count": 20,
   "id": "e03a014e",
   "metadata": {},
   "outputs": [],
   "source": [
    "torch.cuda.empty_cache()"
   ]
  },
  {
   "cell_type": "code",
   "execution_count": null,
   "id": "6b3e6d80",
   "metadata": {},
   "outputs": [],
   "source": []
  },
  {
   "cell_type": "code",
   "execution_count": null,
   "id": "004f81cb",
   "metadata": {},
   "outputs": [],
   "source": []
  },
  {
   "cell_type": "code",
   "execution_count": null,
   "id": "80bc814c",
   "metadata": {},
   "outputs": [],
   "source": []
  },
  {
   "cell_type": "code",
   "execution_count": null,
   "id": "c8b182d2",
   "metadata": {},
   "outputs": [],
   "source": []
  },
  {
   "cell_type": "code",
   "execution_count": null,
   "id": "33c25f65",
   "metadata": {},
   "outputs": [],
   "source": []
  },
  {
   "cell_type": "code",
   "execution_count": null,
   "id": "a2245099",
   "metadata": {},
   "outputs": [],
   "source": []
  }
 ],
 "metadata": {
  "kernelspec": {
   "display_name": "Python 3 (ipykernel)",
   "language": "python",
   "name": "python3"
  },
  "language_info": {
   "codemirror_mode": {
    "name": "ipython",
    "version": 3
   },
   "file_extension": ".py",
   "mimetype": "text/x-python",
   "name": "python",
   "nbconvert_exporter": "python",
   "pygments_lexer": "ipython3",
   "version": "3.10.4"
  }
 },
 "nbformat": 4,
 "nbformat_minor": 5
}

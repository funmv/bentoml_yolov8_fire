{
 "cells": [
  {
   "cell_type": "code",
   "execution_count": 2,
   "id": "be6e3f07-fe1d-4f1c-aa7c-c6017dce3ce6",
   "metadata": {},
   "outputs": [],
   "source": [
    "import requests\n",
    "from PIL import Image\n",
    "import io\n",
    "import bentoml\n",
    "from pathlib import Path\n",
    "\n",
    "# Bentoml 서버 URL\n",
    "#url = 'http://localhost:3000/predict'\n",
    "\n",
    "# 이미지 파일 경로\n",
    "#file_path = 'apple.jpg'"
   ]
  },
  {
   "cell_type": "code",
   "execution_count": 8,
   "id": "2ef0204d-5893-4c2e-a793-c3be8f8a7704",
   "metadata": {},
   "outputs": [
    {
     "name": "stdout",
     "output_type": "stream",
     "text": [
      "1234\n"
     ]
    },
    {
     "data": {
      "text/plain": [
       "[[{'name': 'fire',\n",
       "   'class': 1,\n",
       "   'confidence': 0.74966,\n",
       "   'box': {'x1': 823.73883,\n",
       "    'y1': 162.2755,\n",
       "    'x2': 1032.55457,\n",
       "    'y2': 225.20065}}]]"
      ]
     },
     "execution_count": 8,
     "metadata": {},
     "output_type": "execute_result"
    }
   ],
   "source": [
    "# (1) yolov8_bentoml.ipynb파일에서 bentoml model파일 만듬\n",
    "# (2) bentoml build  \n",
    "# (3) bentoml containerize yolo_v8:tmkoy52vgocyxqb4  (docker image는 6.54Gb)\n",
    "# (4) docker run --rm -p 3000:3000 yolo_v8:tmkoy52vgocyxqb4 실행 후 호출 시 아래는 잘 작동\n",
    "with bentoml.SyncHTTPClient(\"http://localhost:3000\") as client:\n",
    "    result = client.predict(\n",
    "        #[Path(\"banana.jpg\"), Path(\"apple.jpg\")],  # \n",
    "        [Path(\"test01.jpg\")],\n",
    "    )\n",
    "    print('1234')\n",
    "    \n",
    "result"
   ]
  },
  {
   "cell_type": "code",
   "execution_count": 15,
   "id": "021851c3-f652-4c10-ae90-19d31242abad",
   "metadata": {},
   "outputs": [
    {
     "name": "stdout",
     "output_type": "stream",
     "text": [
      "[[{\"name\":\"fire\",\"class\":1,\"confidence\":0.74966,\"box\":{\"x1\":823.73883,\"y1\":162.2755,\"x2\":1032.55457,\"y2\":225.20065}}]]\n"
     ]
    },
    {
     "name": "stderr",
     "output_type": "stream",
     "text": [
      "  % Total    % Received % Xferd  Average Speed   Time    Time     Time  Current\n",
      "                                 Dload  Upload   Total   Spent    Left  Speed\n",
      "\n",
      "  0     0    0     0    0     0      0      0 --:--:-- --:--:-- --:--:--     0\n",
      "100  164k  100   118  100  164k    841  1175k --:--:-- --:--:-- --:--:-- 1178k\n"
     ]
    },
    {
     "name": "stdout",
     "output_type": "stream",
     "text": [
      "[[{\"name\":\"fire\",\"class\":1,\"confidence\":0.74966,\"box\":{\"x1\":823.73883,\"y1\":162.2755,\"x2\":1032.55469,\"y2\":225.20062}}],[{\"name\":\"fire\",\"class\":1,\"confidence\":0.74966,\"box\":{\"x1\":823.73883,\"y1\":162.2755,\"x2\":1032.55469,\"y2\":225.20062}}]]\n"
     ]
    },
    {
     "name": "stderr",
     "output_type": "stream",
     "text": [
      "  % Total    % Received % Xferd  Average Speed   Time    Time     Time  Current\n",
      "                                 Dload  Upload   Total   Spent    Left  Speed\n",
      "\n",
      "  0     0    0     0    0     0      0      0 --:--:-- --:--:-- --:--:--     0\n",
      "100  329k  100   235  100  329k    917  1287k --:--:-- --:--:-- --:--:-- 1293k\n"
     ]
    }
   ],
   "source": [
    "# shell에서 아래 호출해도 잘 작동함\n",
    "!curl -X POST http://localhost:3000/predict -H \"accept:application/json\" -H \"Content-Type:multipart/form-data\" -F \"images=@test01.jpg;type=image/jpg\"\n",
    "# 2개 이상 이미지 보낼 때:\n",
    "!curl -X POST http://localhost:3000/predict -H \"accept:application/json\" -H \"Content-Type:multipart/form-data\" -F \"images=@test01.jpg;type=image/jpg\" -F \"images=@test01.jpg;type=image/jpg\""
   ]
  },
  {
   "cell_type": "code",
   "execution_count": null,
   "id": "4290d82e-0299-4f89-a8d9-69eeda024efb",
   "metadata": {},
   "outputs": [],
   "source": []
  },
  {
   "cell_type": "code",
   "execution_count": null,
   "id": "36df379d-5c15-46cf-a7c9-e0c1927d3ef7",
   "metadata": {},
   "outputs": [],
   "source": []
  },
  {
   "cell_type": "code",
   "execution_count": null,
   "id": "29ad4148-6006-40ce-9f87-a19b79dad552",
   "metadata": {},
   "outputs": [],
   "source": []
  },
  {
   "cell_type": "code",
   "execution_count": null,
   "id": "7c55f36d-d4aa-4400-ba91-8e2390528c47",
   "metadata": {},
   "outputs": [],
   "source": []
  },
  {
   "cell_type": "code",
   "execution_count": null,
   "id": "5a33b962-21b3-4414-9717-4545e52644d9",
   "metadata": {},
   "outputs": [],
   "source": []
  }
 ],
 "metadata": {
  "kernelspec": {
   "display_name": "Python 3 (ipykernel)",
   "language": "python",
   "name": "python3"
  },
  "language_info": {
   "codemirror_mode": {
    "name": "ipython",
    "version": 3
   },
   "file_extension": ".py",
   "mimetype": "text/x-python",
   "name": "python",
   "nbconvert_exporter": "python",
   "pygments_lexer": "ipython3",
   "version": "3.10.4"
  }
 },
 "nbformat": 4,
 "nbformat_minor": 5
}
